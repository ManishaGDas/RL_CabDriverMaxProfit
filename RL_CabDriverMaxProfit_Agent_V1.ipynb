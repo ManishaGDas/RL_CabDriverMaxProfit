{
  "nbformat": 4,
  "nbformat_minor": 0,
  "metadata": {
    "accelerator": "GPU",
    "colab": {
      "name": "RL_CabDriverMaxProfit_Agent_V1.ipynb",
      "provenance": [],
      "collapsed_sections": [],
      "toc_visible": true,
      "machine_shape": "hm"
    },
    "kernelspec": {
      "display_name": "Python 3",
      "language": "python",
      "name": "python3"
    },
    "language_info": {
      "codemirror_mode": {
        "name": "ipython",
        "version": 3
      },
      "file_extension": ".py",
      "mimetype": "text/x-python",
      "name": "python",
      "nbconvert_exporter": "python",
      "pygments_lexer": "ipython3",
      "version": "3.8.5"
    }
  },
  "cells": [
    {
      "cell_type": "markdown",
      "metadata": {
        "id": "jpeCMbD5GvR5"
      },
      "source": [
        "### Cab-Driver Agent"
      ]
    },
    {
      "cell_type": "markdown",
      "metadata": {
        "id": "Q8bg_1-yYhmu"
      },
      "source": [
        "Approach : Inputting state only as the input to the DL model (Arch 1)"
      ]
    },
    {
      "cell_type": "code",
      "metadata": {
        "id": "1koFTiPhGvR7",
        "scrolled": true
      },
      "source": [
        "# Importing libraries\n",
        "import numpy as np\n",
        "import random\n",
        "import math\n",
        "from collections import deque\n",
        "import collections\n",
        "import pickle\n",
        "import time\n",
        "\n",
        "# # for building DQN model\n",
        "from keras import layers\n",
        "from keras import Sequential\n",
        "from keras.layers import Dense, Activation, Flatten\n",
        "from keras.optimizers import Adam\n",
        "\n",
        "# for plotting graphs\n",
        "import matplotlib.pyplot as plt\n",
        "\n",
        "# Import the environment\n",
        "from Env import CabDriver"
      ],
      "execution_count": null,
      "outputs": []
    },
    {
      "cell_type": "code",
      "metadata": {
        "id": "yRAgAZmE0exd"
      },
      "source": [
        "from google.colab import drive\n",
        "# drive.mount('/content/drive')"
      ],
      "execution_count": null,
      "outputs": []
    },
    {
      "cell_type": "code",
      "metadata": {
        "id": "NQSWiqLz07WO"
      },
      "source": [
        "path = '/content/drive/MyDrive/UPGRAD/RL_Project202107CabDriverProfitOptmization/20210717_615pm'"
      ],
      "execution_count": null,
      "outputs": []
    },
    {
      "cell_type": "markdown",
      "metadata": {
        "id": "lec4nnLvGvR8"
      },
      "source": [
        "#### Defining Time Matrix"
      ]
    },
    {
      "cell_type": "code",
      "metadata": {
        "id": "nZLLOyLpGvR9"
      },
      "source": [
        "# Loading the time matrix provided\n",
        "Time_matrix = np.load(\"TM.npy\")"
      ],
      "execution_count": null,
      "outputs": []
    },
    {
      "cell_type": "code",
      "metadata": {
        "colab": {
          "base_uri": "https://localhost:8080/"
        },
        "id": "Q_IS-umcGvR9",
        "outputId": "5c2a3b25-aaab-438e-cd6d-147fb65b2102"
      },
      "source": [
        "Time_matrix.shape"
      ],
      "execution_count": null,
      "outputs": [
        {
          "output_type": "execute_result",
          "data": {
            "text/plain": [
              "(5, 5, 24, 7)"
            ]
          },
          "metadata": {
            "tags": []
          },
          "execution_count": 5
        }
      ]
    },
    {
      "cell_type": "code",
      "metadata": {
        "colab": {
          "base_uri": "https://localhost:8080/"
        },
        "id": "_beyErdaGvSB",
        "scrolled": false,
        "outputId": "9758bdf8-6519-4b69-ab68-135fa833cfc0"
      },
      "source": [
        "Time_matrix[2][1][12][2]"
      ],
      "execution_count": null,
      "outputs": [
        {
          "output_type": "execute_result",
          "data": {
            "text/plain": [
              "1.0"
            ]
          },
          "metadata": {
            "tags": []
          },
          "execution_count": 6
        }
      ]
    },
    {
      "cell_type": "code",
      "metadata": {
        "colab": {
          "base_uri": "https://localhost:8080/"
        },
        "id": "q17n0YyUGvSB",
        "outputId": "efcff2aa-4aa7-489e-c644-c741d5faf7c1"
      },
      "source": [
        "Time_matrix.shape"
      ],
      "execution_count": null,
      "outputs": [
        {
          "output_type": "execute_result",
          "data": {
            "text/plain": [
              "(5, 5, 24, 7)"
            ]
          },
          "metadata": {
            "tags": []
          },
          "execution_count": 7
        }
      ]
    },
    {
      "cell_type": "code",
      "metadata": {
        "colab": {
          "base_uri": "https://localhost:8080/",
          "height": 337
        },
        "id": "M0o_DE5M9t1Q",
        "outputId": "e41266c1-d335-463d-b870-1ab2f37d35b8"
      },
      "source": [
        "import numpy as np\n",
        "import matplotlib.pyplot as plt\n",
        "\n",
        "X_axis = [x for x in range(7)]\n",
        "t = [Time_matrix[x][0][8] for x in range(0,5)]\n",
        " \n",
        "fig=plt.figure()\n",
        "plt.title(\"travel Time for 9am from location A\", fontsize=15, fontweight='bold')\n",
        "ax=fig.add_subplot(111)\n",
        " \n",
        "ax.plot(X_axis,t[0],c='b',marker=\"^\",ls='--',label='A to A',fillstyle='none')\n",
        "ax.plot(X_axis,t[1],c='g',marker=(8,2,0),ls='--',label='A to B')\n",
        "ax.plot(X_axis,t[2],c='k',ls='-',label='A to C')\n",
        "ax.plot(X_axis,t[3],c='r',marker=\"v\",ls='-',label='A to D')\n",
        "ax.plot(X_axis,t[4],c='m',marker=\"o\",ls='--',label='A to E',fillstyle='none')\n",
        "# ax.plot(X_axis,x-1,c='k',marker=\"+\",ls=':',label='DGYC')\n",
        " \n",
        "plt.legend(loc=2)\n",
        "plt.show()"
      ],
      "execution_count": null,
      "outputs": [
        {
          "output_type": "stream",
          "text": [
            "/usr/local/lib/python3.7/dist-packages/ipykernel_launcher.py:9: MatplotlibDeprecationWarning: Adding an axes using the same arguments as a previous axes currently reuses the earlier instance.  In a future version, a new instance will always be created and returned.  Meanwhile, this warning can be suppressed, and the future behavior ensured, by passing a unique label to each axes instance.\n",
            "  if __name__ == '__main__':\n"
          ],
          "name": "stderr"
        },
        {
          "output_type": "display_data",
          "data": {
            "image/png": "[encoded data removed]",
            "text/plain": [
              "<Figure size 432x288 with 1 Axes>"
            ]
          },
          "metadata": {
            "tags": [],
            "needs_background": "light"
          }
        }
      ]
    },
    {
      "cell_type": "markdown",
      "metadata": {
        "id": "8S8qkiFH_C6E"
      },
      "source": [
        "REf: https://stackoverflow.com/questions/23582489/python-pickle-protocol-choice"
      ]
    },
    {
      "cell_type": "markdown",
      "metadata": {
        "id": "PVkxu5WPGvR_"
      },
      "source": [
        "#### Tracking the state-action pairs for checking convergence\n"
      ]
    },
    {
      "cell_type": "code",
      "metadata": {
        "id": "rS2-9CnmQlpK"
      },
      "source": [
        "import collections\n",
        "states_track = collections.defaultdict(dict)\n",
        "def initialise_tracking_states():\n",
        "    sample_q_values = [((3,0,2),[(3,1),(0,2),(1,4)]),((1,6,3),[(2,3)]),((2,2,2),[(3,2)]),((1,10,6),[(3,4)]),((0,20,3),[(1,4)]),((1,23,3),[(1,4)]),((4,17,1),[(1,2)])]    #select any 4 Q-values\n",
        "    for q_values in sample_q_values:\n",
        "        state = q_values[0]\n",
        "        for i in q_values[1]:\n",
        "            action = i\n",
        "            states_track[state][action] = []    #this is an array which will have appended values of that state-action pair for every 2000th episode         "
      ],
      "execution_count": null,
      "outputs": []
    },
    {
      "cell_type": "markdown",
      "metadata": {
        "id": "JmNeZ3cYVHUH"
      },
      "source": [
        "Note to self : \n",
        "usually, a Python dictionary throws a KeyError if you try to get an item with a key that is not currently in the dictionary. The defaultdict in contrast will simply create any items that you try to access (provided of course they do not exist yet). To create such a \"default\" item, it calls the function object that you pass to the constructor (more precisely, it's an arbitrary \"callable\" object, which includes function and type objects). For the first example, default items are created using int(), which will return the integer object 0. For the second example, default items are created using list(), which returns a new empty list object."
      ]
    },
    {
      "cell_type": "code",
      "metadata": {
        "id": "RUfsNsu5QlpL"
      },
      "source": [
        "initialise_tracking_states() # initialised all the state-action pairs tracked"
      ],
      "execution_count": null,
      "outputs": []
    },
    {
      "cell_type": "code",
      "metadata": {
        "colab": {
          "base_uri": "https://localhost:8080/"
        },
        "id": "y_n0Gt06VSrn",
        "outputId": "1de3ae4f-48af-48dd-b79f-2cdedf23e652"
      },
      "source": [
        "print(states_track)"
      ],
      "execution_count": null,
      "outputs": [
        {
          "output_type": "stream",
          "text": [
            "defaultdict(<class 'dict'>, {(3, 0, 2): {(3, 1): [], (0, 2): [], (1, 4): []}, (1, 6, 3): {(2, 3): []}, (2, 2, 2): {(3, 2): []}, (1, 10, 6): {(3, 4): []}, (0, 20, 3): {(1, 4): []}, (1, 23, 3): {(1, 4): []}, (4, 17, 1): {(1, 2): []}})\n"
          ],
          "name": "stdout"
        }
      ]
    },
    {
      "cell_type": "code",
      "metadata": {
        "id": "ohpR3w_mQlpL"
      },
      "source": [
        "# This function will append latest Q-values of the 6 Q-values which are being tracked for checking convergence\n",
        "\n",
        "def save_tracking_states():\n",
        "    for state in states_track.keys():\n",
        "        for action in states_track[state].keys():\n",
        "            state_encod = env.state_encod_arch(state)\n",
        "            state_encod = np.reshape(state_encod, [1, agent.state_size])\n",
        "            prediction = agent.model.predict(state_encod)\n",
        "            action_list = list(action)\n",
        "            #print(\"Action\", action_list)\n",
        "            action_index = env.action_space.index(action_list)\n",
        "            #print(\"Action index\", action_index)\n",
        "            Q = prediction[0][action_index]\n",
        "            #print(\"Q\", Q)\n",
        "            states_track[state][action].append(Q)          "
      ],
      "execution_count": null,
      "outputs": []
    },
    {
      "cell_type": "code",
      "metadata": {
        "id": "0fy4fQ4fQlpO"
      },
      "source": [
        "#Defining a function to save the object as a pickle file\n",
        "def save_obj(obj, name ):\n",
        "    with open(path + '/' + name + '.pkl', 'wb') as f:\n",
        "        pickle.dump(obj, f, pickle.HIGHEST_PROTOCOL)"
      ],
      "execution_count": null,
      "outputs": []
    },
    {
      "cell_type": "markdown",
      "metadata": {
        "id": "nzqpndRdGvSD"
      },
      "source": [
        "### Agent Class\n",
        "\n",
        "If you are using this framework, you need to fill the following to complete the following code block:\n",
        "1. State and Action Size\n",
        "2. Hyperparameters\n",
        "3. Create a neural-network model in function 'build_model()'\n",
        "4. Define epsilon-greedy strategy in function 'get_action()'\n",
        "5. Complete the function 'append_sample()'. This function appends the recent experience tuple <state, action, reward, new-state> to the memory\n",
        "6. Complete the 'train_model()' function with following logic:\n",
        "   - If the memory size is greater than mini-batch size, you randomly sample experiences from memory as per the mini-batch size and do the following:\n",
        "      - Initialise your input and output batch for training the model\n",
        "      - Calculate the target Q value for each sample: reward + gamma*max(Q(s'a,))\n",
        "      - Get Q(s', a) values from the last trained model\n",
        "      - Update the input batch as your encoded state and output batch as your Q-values\n",
        "      - Then fit your DQN model using the updated input and output batch."
      ]
    },
    {
      "cell_type": "markdown",
      "metadata": {
        "id": "39m3HUMgQv2V"
      },
      "source": [
        "#### Writing the Agent Class : CabDriver()"
      ]
    },
    {
      "cell_type": "markdown",
      "metadata": {
        "id": "fcVYecmnqgbn"
      },
      "source": [
        "###### Including Checkpointing ( as the model is taking too long to train)"
      ]
    },
    {
      "cell_type": "code",
      "metadata": {
        "id": "Y5P8JDf3GvSD"
      },
      "source": [
        "class DQNAgent:\n",
        "    def __init__(self, state_size, action_size,path):\n",
        "        # Define size of state and action\n",
        "        self.state_size = state_size\n",
        "        self.action_size = action_size\n",
        "\n",
        "        # Write here: Specify you hyper parameters for the DQN\n",
        "        self.discount_factor = 0.95\n",
        "        self.learning_rate =  0.001 \n",
        "        self.epsilon_max = 1.0\n",
        "        self.epsilon_decay = 0.005\n",
        "        self.epsilon_min = 0.00000001\n",
        "        \n",
        "        self.batch_size = 500\n",
        "        # create replay memory using deque\n",
        "        self.memory = deque(maxlen=2000)\n",
        "\n",
        "        # create main model and Load weights from previously stored model\n",
        "        self.model = self.build_model()\n",
        "\n",
        "        # self.path = path\n",
        "        # self.model_loaded_weights  = self.model.load_weights(self.path+\"/cab_driver_model_weights.h5\")\n",
        "\n",
        "    # approximate Q function using Neural Network\n",
        "    \n",
        "    def build_model(self):\n",
        "        model = Sequential()\n",
        "        # Write your code here: Add layers to your neural nets\n",
        "        model.add(Dense(32,activation='relu',input_dim= self.state_size, kernel_initializer='he_uniform'))\n",
        "        model.add(Dense(32,activation='relu', kernel_initializer='he_uniform'))\n",
        "        model.add(Dense(self.action_size,activation='linear', kernel_initializer='he_uniform'))\n",
        "        \n",
        "        model.compile(loss='mse',optimizer=Adam(learning_rate =self.learning_rate))\n",
        "        \n",
        "        # model.summary\n",
        "        \n",
        "        return model\n",
        "\n",
        "\n",
        "    def get_action(self, state, episode):\n",
        "\n",
        "        # Write your code here:\n",
        "        possible_actions_index , possible_actions = env.requests(state)\n",
        "        # get action from model using epsilon-greedy policy\n",
        "        epsilon = self.epsilon_min + (self.epsilon_max - self.epsilon_min) * np.exp(-self.epsilon_decay*episode)  ##Based on the given epsilon-decay example\n",
        "            \n",
        "        z = np.random.random()  ##Takes random value [0,1)\n",
        "        \n",
        "        if z > epsilon:\n",
        "            # model.predict(state)\n",
        "            state_E = env.state_encod_arch(state)\n",
        "            state_encoded = np.reshape(state_E,(1,self.state_size))\n",
        "            q_value = self.model.predict(state_encoded)  ###  check shape of predict output\n",
        "           \n",
        "            q_values_possible_actions = q_value[0][possible_actions_index] \n",
        "\n",
        "            best_action_index = np.argmax(q_values_possible_actions)\n",
        "            action = possible_actions[best_action_index]\n",
        "            # best action - from possible actions   \n",
        "        else:\n",
        "            #randomly select the actions \n",
        "            index_action = np.random.choice(possible_actions_index)\n",
        "            action = env.action_space[index_action]\n",
        "        \n",
        "        return action, epsilon\n",
        "       \n",
        "    \n",
        "    \n",
        "\n",
        "    def append_sample(self, state, action, reward, next_state, done):\n",
        "        self.memory.append((state, action, reward, next_state, done))\n",
        "    # Write your code here:\n",
        "    # save sample <s,a,r,s'> to the replay memory\n",
        "    \n",
        "    \n",
        "    \n",
        "    # pick samples randomly from replay memory (with batch_size) and train the network\n",
        "    def train_model(self):\n",
        "        if len(self.memory) < self.batch_size:\n",
        "            return\n",
        "        \n",
        "        # Sample batch from the memory\n",
        "        mini_batch = random.sample(self.memory, self.batch_size)\n",
        "        ### [(s,a,r,s'),(s,a,r,s') .... ]\n",
        "        update_output = np.zeros((self.batch_size,self.state_size))# write here\n",
        "        update_input = np.zeros((self.batch_size,self.state_size))# write here\n",
        "        actions, rewards, terminal_states = [], [], []\n",
        "            \n",
        "        for i in range(self.batch_size):\n",
        "            state, action, reward, next_state, terminal_bool  = mini_batch[i]\n",
        "            # state_next = env.next_state_func(state, action, Time_matrix)\n",
        "            actions.append(action)\n",
        "            rewards.append(reward)\n",
        "            terminal_states.append(terminal_bool)\n",
        "            # Write your code from here\n",
        "            # 1.  Update your 'update_output' and 'update_input' batch\n",
        "            update_input[i] = env.state_encod_arch(state)  ############# Change funcition name to arch at the end no numerical subscript to avoid confusion between state and state-action input ( this code is following state only input) ############\n",
        "            update_output[i] = env.state_encod_arch(next_state)\n",
        "        \n",
        "        target = self.model.predict(update_input)\n",
        "        q_vals_next_state = self.model.predict(update_output) ## (batchsize,len(action_space))\n",
        "            \n",
        "        # Check for terminal state before updating the q-value\n",
        "        for i in range(self.batch_size):\n",
        "            action_index = env.action_space.index(actions[i])\n",
        "            if terminal_states[i]:\n",
        "                target[i][action_index] = rewards[i]\n",
        "                \n",
        "            else:\n",
        "                target[i][action_index] = rewards[i] + self.discount_factor * (np.amax(q_vals_next_state[i]))\n",
        "        \n",
        "        # 4. Fit your model and track the loss values\n",
        "        self.model.fit(update_input, target, batch_size = self.batch_size, verbose = 0, epochs = 1)\n",
        "                \n",
        "             \n",
        "    def save(self, name):\n",
        "        self.model.save(name)\n",
        "        print(\"saved Model\")\n",
        "\n",
        "    def load_model_weights(self, name):\n",
        "        self.model.load_weights(name)\n",
        "        \n",
        "    # def load_model(name):\n",
        "    #     self.model.load(name)\n",
        "    \n",
        "    def save_model_weights(self,name): \n",
        "        self.model.save_weights(name)\n",
        "        print(\"saved Model weights\")"
      ],
      "execution_count": null,
      "outputs": []
    },
    {
      "cell_type": "markdown",
      "metadata": {
        "id": "pQqqMcybGvSF"
      },
      "source": [
        "### DQN block"
      ]
    },
    {
      "cell_type": "markdown",
      "metadata": {
        "id": "Lyzho5tAq3MX"
      },
      "source": [
        "agent = DQNagent(...)\n",
        "for episode in range(Episodes):\n",
        "\n",
        "    \n",
        "    # Write code here\n",
        "    # Call the environment\n",
        "    # Call all the initialised variables of the environment\n",
        "    #Call the DQN agent\n",
        "    count=0\n",
        "    while != terminal_state:\n",
        "        count+=1\n",
        "        action = agent.get_action(state,episode)\n",
        "        reward = env.reward_func(state,action,time_matrix)\n",
        "        next_state,terminal_state = env.next_state_func(state,action,time_matrix)\n",
        "        # Write your code here\n",
        "        # 1. Pick epsilon-greedy action from possible actions for the current state\n",
        "        # 2. Evaluate your reward and next state\n",
        "        # 3. Append the experience to the memory\n",
        "        if count%20 == 0:\n",
        "            # 4. Train the model by calling function agent.train_model\n",
        "            # 5. Keep a track of rewards, Q-values, loss\n",
        "            agent.train_model()\n",
        "    if episode% ==:\n",
        "        agent.save('')"
      ]
    },
    {
      "cell_type": "markdown",
      "metadata": {
        "id": "jB3OpXxauXI8"
      },
      "source": [
        "Call the environment"
      ]
    },
    {
      "cell_type": "code",
      "metadata": {
        "id": "4N0Ijut9uDVm"
      },
      "source": [
        "env = CabDriver()"
      ],
      "execution_count": null,
      "outputs": []
    },
    {
      "cell_type": "markdown",
      "metadata": {
        "id": "Ng28j3aMuXvr"
      },
      "source": [
        "Call all the initialised variables of the environment"
      ]
    },
    {
      "cell_type": "code",
      "metadata": {
        "id": "jCTCV-1wrXyV"
      },
      "source": [
        "total_time = env.max_time\n",
        "Total_Episodes = 1000\n",
        "m =5\n",
        "t= 24\n",
        "d= 7"
      ],
      "execution_count": null,
      "outputs": []
    },
    {
      "cell_type": "markdown",
      "metadata": {
        "id": "BU61SknHrcg9"
      },
      "source": [
        "Testing Next_state_func"
      ]
    },
    {
      "cell_type": "markdown",
      "metadata": {
        "id": "vGDRcX-0uc2r"
      },
      "source": [
        "Call the DQN agent"
      ]
    },
    {
      "cell_type": "code",
      "metadata": {
        "id": "4UKN33MzuTJc"
      },
      "source": [
        "action_size = len(env.action_space)\n",
        "state_size = m+t+d\n",
        "agent = DQNAgent(state_size = state_size, action_size=action_size, path=path)"
      ],
      "execution_count": null,
      "outputs": []
    },
    {
      "cell_type": "code",
      "metadata": {
        "id": "UaGliNwzfw-_"
      },
      "source": [
        "# tracking average reward per episode = total rewards in an episode/ total steps in an episode\n",
        "avg_reward = []\n",
        "\n",
        "# tracking total rewards per episode\n",
        "total_reward  = []"
      ],
      "execution_count": null,
      "outputs": []
    },
    {
      "cell_type": "code",
      "metadata": {
        "colab": {
          "base_uri": "https://localhost:8080/",
          "height": 1000
        },
        "id": "4PliPCY_GvSF",
        "outputId": "2677c1a8-c5c3-4508-b1da-ecb924b0d930"
      },
      "source": [
        "\n",
        "Episodes = 1000\n",
        "for episode in range(0,Episodes):\n",
        "    \n",
        "    # tracking total rewards, step count\n",
        "    tot_reward = 0\n",
        "    step_count = 0\n",
        "    state = env.reset()\n",
        "    terminal_state = False\n",
        "    \n",
        "    while not terminal_state:\n",
        "        \n",
        "        action, epsilon = agent.get_action(state, episode)\n",
        "        reward = env.reward_func(state, action, Time_matrix)\n",
        "        \n",
        "        next_state, terminal_state = env.next_state_func(state, action, Time_matrix)\n",
        "\n",
        "        # save the sample <s, a, r, s'> to the replay memory\n",
        "        agent.append_sample(state, action, reward, next_state, terminal_state)\n",
        "        \n",
        "        # every time step do the training\n",
        "        agent.train_model()\n",
        "        tot_reward += reward\n",
        "        state = next_state\n",
        "        step_count += 1\n",
        "        \n",
        "        # Store the rewards\n",
        "        if terminal_state and episode % 25 ==0:\n",
        "            avg_reward.append(tot_reward/step_count)\n",
        "            total_reward.append(tot_reward)\n",
        "            print(\"episode:\", episode, \"  score:\", tot_reward, \"  memory length:\",\n",
        "                      len(agent.memory), \"  epsilon:\", epsilon)\n",
        "    \n",
        "    if episode % 250 == 0:\n",
        "        t_stamp = time.strftime(\"%Y-%m-%d_%H:%M:%S\")\n",
        "        agent.save(path+\"/cab_driver{}.h5\".format(t_stamp))\n",
        "        # agent.save_model_weights(path+\"/cab_driver_model_weights{}.h5\".format(t_stamp))\n",
        "        # agent.save_model_weights(path+\"/cab_driver_model_weights.h5\")\n",
        "\n",
        "    if episode % 25 == 0:   #every 2000th episode\n",
        "        # t_stamp = time.strftime(\"%Y-%m-%d_%H:%M:%S\")\n",
        "        save_obj(avg_reward, 'Rewards')  \n",
        "        save_tracking_states()\n",
        "        save_obj(states_track,'States_tracked')  \n",
        "        \n",
        "    \n",
        "    if episode % 200 == 0 and episode !=0:\n",
        "        plt.plot(list(range(len(avg_reward))), avg_reward)\n",
        "        plt.show()\n",
        "        \n"
      ],
      "execution_count": null,
      "outputs": [
        {
          "output_type": "stream",
          "text": [
            "episode: 0   score: -632.0   memory length: 421   epsilon: 1.0\n",
            "saved Model\n",
            "saved Model weights\n",
            "saved Model weights\n",
            "episode: 25   score: -54.0   memory length: 2000   epsilon: 0.8824969037596264\n",
            "episode: 50   score: -92.0   memory length: 2000   epsilon: 0.778800785283397\n",
            "episode: 75   score: 38.0   memory length: 2000   epsilon: 0.6872892819180795\n",
            "episode: 100   score: 578.0   memory length: 2000   epsilon: 0.6065306636473269\n",
            "episode: 125   score: 448.0   memory length: 2000   epsilon: 0.535261433166376\n",
            "episode: 150   score: 330.0   memory length: 2000   epsilon: 0.4723665580173491\n",
            "episode: 175   score: 450.0   memory length: 2000   epsilon: 0.41686202550988816\n",
            "episode: 200   score: 497.0   memory length: 2000   epsilon: 0.3678794474926479\n"
          ],
          "name": "stdout"
        },
        {
          "output_type": "display_data",
          "data": {
            "image/png": "[encoded data removed]",
            "text/plain": [
              "<Figure size 432x288 with 1 Axes>"
            ]
          },
          "metadata": {
            "tags": [],
            "needs_background": "light"
          }
        },
        {
          "output_type": "stream",
          "text": [
            "episode: 225   score: 664.0   memory length: 2000   epsilon: 0.324652474111825\n",
            "episode: 250   score: 668.0   memory length: 2000   epsilon: 0.2865048039951421\n",
            "saved Model\n",
            "saved Model weights\n",
            "saved Model weights\n",
            "episode: 275   score: 553.0   memory length: 2000   epsilon: 0.25283960327635047\n",
            "episode: 300   score: 663.0   memory length: 2000   epsilon: 0.2231301679171282\n",
            "episode: 325   score: 622.0   memory length: 2000   epsilon: 0.1969116832350773\n",
            "episode: 350   score: 327.0   memory length: 2000   epsilon: 0.17377395171270568\n",
            "episode: 375   score: 430.0   memory length: 2000   epsilon: 0.1533549753113788\n",
            "episode: 400   score: 270.0   memory length: 2000   epsilon: 0.13533529188325985\n"
          ],
          "name": "stdout"
        },
        {
          "output_type": "display_data",
          "data": {
            "image/png": "[encoded data removed]",
            "text/plain": [
              "<Figure size 432x288 with 1 Axes>"
            ]
          },
          "metadata": {
            "tags": [],
            "needs_background": "light"
          }
        },
        {
          "output_type": "stream",
          "text": [
            "episode: 425   score: 725.0   memory length: 2000   epsilon: 0.11943297707238992\n",
            "episode: 450   score: 589.0   memory length: 2000   epsilon: 0.10539923350787207\n",
            "episode: 475   score: 223.0   memory length: 2000   epsilon: 0.0930144982805186\n",
            "episode: 500   score: 585.0   memory length: 2000   epsilon: 0.08208500780304881\n",
            "saved Model\n",
            "saved Model weights\n",
            "saved Model weights\n",
            "episode: 525   score: 361.0   memory length: 2000   epsilon: 0.07243976630985388\n",
            "episode: 550   score: 1230.0   memory length: 2000   epsilon: 0.06392787056742895\n",
            "episode: 575   score: 911.0   memory length: 2000   epsilon: 0.056416148939615954\n"
          ],
          "name": "stdout"
        }
      ]
    },
    {
      "cell_type": "markdown",
      "metadata": {
        "id": "fabr0Z3xVavf"
      },
      "source": [
        "Observations: episode: 200   score: 441.0   memory length: 2000   epsilon: 0.3678794474926479 \n",
        "\n",
        "\n",
        "\n",
        "![image.png](data:image/png;base64,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)"
      ]
    },
    {
      "cell_type": "markdown",
      "metadata": {
        "id": "J4cibeSEVej3"
      },
      "source": [
        "episode: 400   score: 951.0   memory length: 2000   epsilon: 0.13533529188325985\n"
      ]
    },
    {
      "cell_type": "markdown",
      "metadata": {
        "id": "kjptR_EdVpe2"
      },
      "source": [
        "![image.png](data:image/png;base64,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)"
      ]
    },
    {
      "cell_type": "markdown",
      "metadata": {
        "id": "cAUwDwR3ZNoa"
      },
      "source": [
        "episode: 600   score: 1321.0   memory length: 2000   epsilon: 0.04978707786999326"
      ]
    },
    {
      "cell_type": "markdown",
      "metadata": {
        "id": "ctQzcDEVZSkS"
      },
      "source": [
        "![image.png](data:image/png;base64,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)"
      ]
    },
    {
      "cell_type": "markdown",
      "metadata": {
        "id": "t3jixcKbZGMb"
      },
      "source": [
        "episode: 800   score: 1414.0   memory length: 2000   epsilon: 0.01831564870557779"
      ]
    },
    {
      "cell_type": "markdown",
      "metadata": {
        "id": "BUrKeZojZLTL"
      },
      "source": [
        "![image.png](data:image/png;base64,iVBORw0KGgoAAAANSUhEUgAAAXIAAAD4CAYAAADxeG0DAAAgAElEQVR4Ae2dB7gd1XXvF3FJ4pRnx8/vvXxJFCB2bIMdl+vEISYJOAYTQuy4kJDExGAc3EPAsRECBEJ0LBBNiCZAVNER0lXvDUlX7apLVwX1irpQ3+/7zzlbmjt3Zs6emb3nzJnzX993v3vOlD17fjPnP3vWXnttERoJkAAJkAAJkAAJkAAJkAAJkAAJkAAJkAAJkAAJkAAJkAAJkAAJkAAJkAAJkAAJkAAJNAWBD3/4w6qlpYV/ZMB7gPcA74EE94CIbC3MQwIiTiMBEiABEkhGQETaKOTJmHFrEiABEigUAQp5oS4HK0MCJEACyQlQyJMz4x4kQAIkUCgCFPJCXQ5WhgRIgASSE6CQJ2fGPUiABEigUAQo5IW6HKwMCZAACSQnQCFPzox7kAAJkEChCFDIC3U5WBkSsE9gSsdWtWTjbvsFs8TCEKCQF+ZSsCIkYJ/AsWPH1OdvGqkue3Km/cJZYmEIUMgLcylYERKwT2DN9n3qj68eos69e4L9wlliYQhQyAtzKVgRErBP4M156z0h/+T1wxRa57RyEqCQl/O68qxIwCNwy9BFnpCjVb5tzwFSKSkBCnlJLyxPiwRA4ML+U9XJ3Yd4Yj53zQ5CKSkBCnlJLyxPiwSOHD2m4FKBmKNFDjcLrZwEXAv5lSKyUEQWiMjzIvIbcakWmca2nDcZz6o+BBByCAEfOHWV97/fuI76VIRHdU7ApZD/gYisEpHfrIr3iyJyCYXc+TXlAUjAIzBoxhpPwDu27FGf6TVC9Xi1nWRKSsC1kK8Vkd8TkfeKyBAROZdCXtI7iadVOALXvNquPnXDcHX06DF1wX2T1MWPTy9cHVkhOwRcCjk0+woR2VudhujZCBG/vFqJtm7dutk5K5ZCAiSg/uG+ierfHp3mkfjh023q7LvGkUpJCbgU8g+JyFgR+YiIvE9EXheR70SIubeYPvKS3mU8rdwJvHvoiPqTa4aqO4Yt9o6NMMSP9Wj1Wue5V4YHdE7ApZBfKCKP+4T7P0Skn+97l48UcufXmwdoEgKz3n7H848PX7DRO2Pd4blp17tNQqC5TtOlkH+xGrHyARE5SUSeEpGfdVFv3wIKeXPdfDxbdwQGTF7pCfnGnRXhHrtks/d95qrt7g7KkutGwKWQQ6J7iciSavjh0yLy6z7d7vKRQl63+4AHLhmBK56frf7illHHz2r55koo4quz1x5fxg/FIHD4yFG1/+CRTJVxLeRdxDpuAYU807XkziRwnAA6Nr//1ImMh/CZI6b83tHLjm/DD8UgMH/dTu/ajF60KXWFKOSp0XFHEigmgZ37D3nC8MDY5Z0q+IWbR6lfvDS30zJ+qT+B1+es865XlpzxFPL6X0fWgASsEpi0bKsnDPjvt288OFld9HAlHNG/nJ/rS6DPyKVePhy8NaU1CnlactwvEQH4AdHxtmD9TjVx2Rb12ux16rFJK9Wdwxer7q/MU//51Ez1rX5T1KVPzFDYlpaeAFricKOgZe63nz03W33p9jH+RfxcAAI/eXaWOvOObNeFQl6AC1n2KiAPNny2EJfg36nXDFUtvUd5Ex989Z4J3vr2tTvLjsTp+cE3Hjb4Bw9N8OaD0in+xIX/fd+J6j8yjrqlkCfGzh2SEti8611PoK8aNFcNm79RzVi1XSH/x459BzsNUFm3Y7+33VNTVyU9BLf3EUC0CqJWgvb89Lc9vpg1iFYMAkif8InrhqkbBy/IVCEKeSZ83NmEwOTlFZ8tJgGOM7Tco0Qobj+uO0EA7iu89SCOPGim1yG4H7+7I7C+2nh5etrqTAehkGfCx51NCDxRHZyyZXftGWp+MLBN/fUdY02K5TYhBDCSE0KOkZ1BW71tr7cOWRFpxSCgO6ZrNXJq1ZZCXosQ12cmgCx8SKNqMmfkwxM6PLHZymnJUnFHbhXkWAmLgDh05Kg6pfsQ1WfEklRlcyf7BJ6cUskVnzV1AoXc/rVhiQECFz40VX37oSmBpeFfMYQcLcqRC9MPjggvuTmWItshsh5G2V/dNkb99wtzolZzec4Eer4+X51mYWJsCnnOF67ZDodWOFrj3V8xm9QgmLWv2XhlOV90nCH/ON6Aouyf+0/1wjyj1nN5vgS+89hbXq74rEelkGclyP1jCcBFghb245O6dr5F7fi1+yepf3l4atRqLo8ggEggsI7zgSNyyJ+DJaIoLs6JAN6Q/iskwijp4SnkSYlx+0QEpnZs88QFg4BM7YY3FnghWYx3NiVW2Q4JsSDkcUO97xm11NvmwOH0owiT1YpbRxFAoixcLxv5byjkUZS53AqBNHmwde4JjAKlmRPAA/CT1w9TR44ei9zp5baK2K/YsidyG67Ih8DC9bs8IX9z3vrMB6SQZ0bIAuIIXPfafM9vaxKxosvBgBW0VAZmjK3V5TXL/68/MFld2D/eJTV9ZaUzefxS8zekZuGX93kOnrveu88h6FmNQp6VIPePJQBfN5I1JTGIPobtX8noCmNsBw8fVR+7tlXdPGRh7D56AMozb2UbgBJ7EK40ItB31DJPyLPmIsfBKORGyLlRWgItvUeqX740L/HuSKJ1FicLNuaG/DR4i6n1mg63y0d7DFW3tVbm8jQ+ADe0TgCdnOjstGEUchsUWUYoge17D3ri8ujEFaHr4xb2G1cZGIQyaLUJYIg3hNwkj8rf3jlW/fjZWbUL5RZOCVxw3ySF8EMbRiG3QZFlhBLQ/thxSzaHro9b+NaKSrTLmMUcGBTHSa/7nxfnqs/dNNJo9CzEAyGetPoRgPsQA4HQQW3DKOQ2KLKMUALww6KViKyGSW3fwcNeytW7hjfncHJkhkwSInjO3ePVJQOmG2FG/vfP3zTSaNskG+05cFgh4ghpdJEvB1kvaeEEMCQfvw1bmT4p5OGcudQCAbQ2sgw/xlDzf32kOWe0+Uqf8eprD0w2mpQXAnpy9yHq7pFLja6annhi74HDRtvHbYQHLvzySHb2p9e2euL02V4jvP+IyqCFE0CSLAh5cBan8K1rL6WQ12bELVISQN4PiFFau76ahyIuLjpt2UXeD8KMHzn+fvh0W6ec7WH1nlZ1Q41dbObCeqMa9hY3cCjsOHoZ0igMm7/B87MjlzbqiflAkTcEuebxJvGxHq3q1tZFehf+DxBAaC24IYrIhlHIbVBkGaEE/vzmUernL6af7FePVFy0IXucbWgFC7pw9tvveD/yix+f7v2vFWGiM0ZuM8wYqcsflSIxWf/xHd5bFkQI7pker7YrjN4NPmzRkffvj9rpyCvoZcpULUwkgYcg8uPYMAq5DYosowuBnfsqM7njh5/WdP5slzHP8OlOKNjgGD2TD84fQgnRxLIo+/EzsxLNxYm88CgTeeKTGNLgYuQoMlnCJRCXQgF+eNPUxUnqUJZtMbUbpnizZRRyWyRZTicCbasrIwizRJ2gZx+RGFla9Z0qFfiC8rVrAPNZBluVgc1z++pvrUEs0TLHXJtR/lTEIicJJ9TnfdOb8YOHgifctrryptDaviG4qst3HQ659h1OK9cFjlLeZMs/fa7rdHxh25oso5CbUOI2iQnoVqVJXHNc4Zc9OUOd/atxcZukXvdONc79b+4c67VQ4dM3dU+kPqjBjl7fgi88cPe7hxQmpkaK2mWbdncqQWeXhHsliaEzFYOukpjuJDWJ7dfuG8zRSutMAH0MSTqnO+8d/s21kH9QRF4WkSUislhEzpAYa2lpCa8llzYcAbT2bPgAtXggHM+2zV9XGQ2JjjukfsUQ97+8dbSCCNXTMBoWceF+QwgnOhS/dPsY5Z8yD288cJMg7j6JXfrEjMSv9vB544FiYhArvEX8irMRdcGFTmZcM7j1bJlrIX9KRL5f1e73iwiEPdIo5LYua/3LsZUwX4dpjU0xqKgWBcxChB/UvLU7vE0h7GfeMcYbwo6sjXBB5G26hR02Ghb1/Ph1rQrJsSCUMIQcYvq2pKGEiAhCC9/UEImCYycZwHLu3ROMY9tN61GG7Ya2b/DuO9xvtsylkP8vEVklIidFKndgBYXc1mWtfzlo2dpIegWBcjXPpJ4v0d/CRSctBtZA4DElGuKk8zT94IrK3w5XBV7L0cGJiIfvDpiuIJhJ7ZEJK7xzxPmaGMIKwQSTO5valYPmeG8Rpts3y3b3j6kky0r68I3j41LIPysiM0TkSRGZIyKPichvBbQbXy+vVqKtW7ducXXlugYhAJ8ufvQPjltupcbn9Z1oLSeFv0KIc4Y7JRgChu9I9g/BhEjmmbsbkSRgFzcqUocbYqJlDL75xUud3TD+c4z6DHcSjmPaKtQ8TIUfx8WsULXOJap+ZV6OBg4aOjbNpZB/QUSOiMgXq+J9r4j0DhHy44vYIrd5aetXlu7osjWBMkLwPtVzeBfBzXqGiBpAR2eUISwRQolj59VpZxK2B5cP5kCFSOIPESJJzd8/YLLvRQ9PU+ffmyxcTufayRK5ZFK3RtsGg+TQoW3TXAr5/xOR1cdVWuSvRWSo73uXjxRym5e2fmUNmrnGE5hVW/daqYSe1SbtSMSoSnyr35Sac4MifA4JpuDeeXub+1A65G7HBMm1DDHd6IdI0qr2l6nj/OFiqWXwx2P4fdJwRT1C1cZUZrXq2Cjr8RBG3wQmXLFpLoUcQj1JRD5eVewbReSuLurtW0Aht3lp61fWLUMrLgtbcdlwbUCw4gbFpDnbM+DHHzSn5q6IGMHxEUHj0vAjP73ncIWOSBODjxU+67SdshAUk2PpFABpRoKefde4xGGOJufeqNvowVgDEg7GqnW+roUcfvI2EWkXkddF5EM+3e7ykUJe63I1xnp0wMGvbcsgVBglmMYXHFUHDLRBeJxpdkW0lG2eU1i90PpP6yoJK6/WMowsNMmYqCNjdu436xj1HxfuK1uTJ/jL1Z/RWEDoJfo7Xpm1Vi8u7H/9ULQ91Z5rIe8i1nELKOSFvf8SVQw/XMx+YtMgOBjEYsv0lGfPvhU99N1/LN1xt3yzu0mLdUz4zFXb/Yd29hkDgkyYYh5Q5E5JY0jRgIcTBl/ZMkyNhjcRjPjFyF+Uj45p/MdDJ+0biq36xZWD+w31zDpQLngMCnmQCL9nIoDXfdyoCLGyafeNroRspWkVhtVDpxAwjU9H/miIxT2jzFLFhh2z1jI9K5Ktc6x1PD1oK0744B9HJkO4y9LY5OV20rUivh6Dti57cubxdLlwDV3x/Gw1ZN4GBWYQdtx7vd9cWFgxR93Q3xCMlErD1r8PhdxPg58zE8CgFfyYbEd5aEGw9UqqZzBfGhjyHgcAnZB/12e8M5GAKNkOS4s7Hx3q6I+jD24/pSrEpilyg/tjRC7uh4dSJk+DgCNiRre40a+BQUm4H9Dh6zeII9bheFe/PK8wuXP8dcSIWtPRsf79an2mkNcixPWJCOgIk44tdl0QiE232SLWr/wo19R0DunFG92k1YUPHlnx8rLRiyojW+NSEmCIPfoSknAK1h9pBX6Sco5QPAAgzH1GLPFi3uPeHnBcrEe/B/aBfz4o9sG65f3dmy/1GfvzpVLI876SJT8ecmdjlva4FKdpEaAlg0yANgwtN7yaJzG0DhGGaNpBmqRs8PImY0jpwkhyLL2tzvmBiSaiDCGaWSYHQbmYPeisu9IlPsPxk8av45jaTYWkazqdQdQ55rUcaQ5c5Z+hkOd1FZvkOPjhpBkyboIHg2Ugvjb8i5hXMk09kTgKg4hqtQxNzse/DTpR0YrEG01epvszosIqkZ4AD+VaE1vUqq8ekp60VY8si156BsMp7IL1QL4cMP3XR6YlzkUTLMvGd2SuRH0wYYpto5DbJtrk5WHS3SS5sZPg0gONlm/unMo1SRl6W8wHijDJpKbT87avtZfwCHVAhx1+5KZD5pPWO2p7zPKDB2SYId8L6pS1XwL+dZSTNEOjdtPppGZhday1DGXgYfBPD05WSdIL1Co3zXr0G4HD3DWVJG1pyojah0IeRYbLExNAWBj82H1H2Y1Y0RXRrVZEL2Q1hK1d82p74mLQefcn1wxVt1p2gfSpZjHM2w0AtwlGiIYZcrngXLMmd9q8uzJj/GOTks1I9KNn2tRf3DIq8xsY8srgzQJ9EHCP1cuQewhCnvTNxKS+FHITStzGiIDO34E0nS4MLpVP3zA8sgVpekyIJX5QaUMkEdOOWHmb7hX4kTEKMm/D2xM64MIMrVgMhLJhmL81STZM+JNPu36Yl1PGxvHxVoE0vJikJK/wzmC9ER4JDi6MQu6CapOW+drsdZ5ABmexsYkDUR1pfNv+Ough/2lHAupX/lkWJ6BAZyDEPG/TndPBdApohaNjDlPg2TCE3Z1zt/mALiQsw8MWkTW2DGMGUGba6561Hngo/svDtfPopDkOhTwNNe4TSgA/eryKHzzcOb43dOOUCzEgB+6bXQnCBoOH0jHpmP09jeHYiDDB3Jo2DG8IOCe4V/I2TGwNccNIV7+Nq4pe1Dyh/m1NPiN8EL5quN9MrOfr870WtE1XE97okOohOPuSSX2yboO3tz+7cUQqd57JsSnkJpS4jREBDPnGgBmXpltqWQRGd5pmyWaIqBcb/luwcu2SirsemidSzvoNuUvgVzYVXv++YZ8xpB4PDJO3GIgeXFcYxWnbLh8405suz3a5tcrDXLA4/7CZn2rta7KeQm5CidsYEYB74IdPu3UPwL+JH0SW1KjojEUZ8MOmNcReo4ykkRhhx9OuGpd5XMKOi2XazYQ6+A2doN9+aIp/UabPOoMkQgJr2aINuzy2trNd4rh6NKvtXCe1zknPsJR2hGyt8inktQhxvREBvAJ7Mb85TLaLOG5MdZbWfvnSvMxTkMGHjM4zG3mlddpfF4OoajHCwyw4YhZRFfCPwx1iy9DKxiQdYF/LdNx53CxJtcqIWq8HQeGtLE97YUYlWVaWt8C4+lLI4+hwnTEB3YpCDhPX9r0nsg06QrgdJovIaniYYMb7rAKMDlyklK2XffGW0V7CKX18nYUReVZsGribjNLE5NI2rk9Y3fFAQex8kgiasHKSLkO4KqYVDHYqJy0nansKeRQZLk9EQLsaXOUh8VfG+1H0aE0toF/+lR0XUGt1NvQs/nqcFxJlYaLnehlcKP5ZiW4estDrzLXZ0Yhz0xEycS4tHXOObJeuDA9gMIeo52Xw9yeJ2klaLwp5UmLcPpSAjkqI+5GG7phiIQYEwT+dZio5/Hg/ef0w1WvwwhRH7rwLhA6xzsi0l9b0lGvIDVIvw0PEP/kDco/7hd1Wvd6cV+lXiBu9ql0QC9e7SUyGc9HJz9LcP2lZIH7dZXgphTztleF+nQigkzOvAS1tq9/xhDzN1GNaOG1FDyD1LELa0mbZ051g9ZygWD+EcQ7oTEZfh4u86xBOPIAh1lGGaCCkqnXZWtYjhJ+bHl2PqPqlWQ6uCMvFSFlXRiF3RbbJykXYIcIP8zAtxmlyXKOlBzGxNfoUDxOUZzpBRZDP09MqcdyI6qiX+cMxR1bPB1OS2TbEcX+qZ/TEw3jD+cR1w6x0IMfVHQ+JL9w8Sv3sObuzWEUdEymdcY+8FIgMito+zXIKeRpqBd0HT360ijHII0/DACC0OGyNAjSpe0vvUakGdpjk4DY5vt4GriRkZLxq0Fy9KNF/RL1gwmWXLdBaFcLAKAgNBkrB5YQZbFy5yOCywdD/MNOdrFmTdIWVHVwGEYeY58FdPxzj8r4H65f0O4U8KbECb4/BFvhBnnnHmMyJhpKcJmbZwXExRD8vw1DnKEGIq4NObWoztA05NNDSTNM5iPkwbeUziTvvuHWIqcb1Q9w2omeQ9tWV4UGBsM2wSB8kMUOfg6uHiP+c4FbBOecRu68nMXGZ44VC7r+6Df5ZZ1fDDZr2VT8NAp2CdcF6u6ld4+py7WvtXks4aYvq9mGViS9s5DTX9UMLEsxHLNioFxn9R93hX+/+SvIsjEYHMNwIooq48R6vtnsx5VkGW9U6JPKcgFVwij2wQBikyw5Bf920vx4dn64NsfMIU3VpFHKXdHMuG/HIcK3A7YAJHvIynf8kTYs0bR0HTF7pCQLC1ZLYfz0/23tjSbJPrW3h0sJgl6Q+V7wVQNQw2rDehrc4ZJZEfdAB68r021swcZVOU/BiTgN18OBACGKWgWWmjBDeeeFDbpJl6TpQyDWJBv8PMcFrKXyu8FUj8iCvDjSkQsVoyzxNT3owpSPZoBX8oODOsG1oVSOsMUluEp3nJOk52K47yoM7BSIOt4fLpGdo/eMYwfDPu0dWkqEhJ0lehkFBGByU9K0uaf1wjCwhqibHo5CbUGqAbdCRgh8i3Bxr39nnvSJnnVvyySmrFCIaavn2kFY2zzcAXI4NO/d752uSu8N/+RAv7WLwjZ5tPkk0DEIgcc3yFC8/C//nX7w016sLprJzbejbCD5MMWPTN/vZy+1icg46WgfD9l0ZJiLBNX5kwgpXh/DKzUPI3yMic0RkiNSwlpYWpydb5sL1bONbdldaNMj/DBdL2taVTvWKmxApWxFaiAEdwRYn3gRszOuY9NqgFYU3EEyibGoYHu0qnhdlY9IAvEabtvCQThXXqAiGkZS41lHzd9qso47U0f0UG3dWXEzo48nTdCevS9eWHvNgM696GKM8hPwqEXmOQh6G394yzD/pTyGrQ7kgvkkNQvSP90/yRvvBX4q82wjVwg8d4olBMCgfDwk9uCKYPS/pMdNsjzomaUFqwXDVwaUjIV6fYxa9g/r/26PuIkSSMNWjLl2GyOn66NGbK7fu9RbpnOjBDlC9vcv/X7p9jEJqW1cGnz9+N/pcXR3HtZD/oYiMEZEvU8hdXULlhXIhFhlRB9rQQoQb4aKHkwuFjkLxD2BAefDlYqJeJMjHzYmIC4QB4nOWCXJ1nZP+h48TkQ6mpsMzXY2iBCOIM1rmew4cjq0WWqPwFduanCL2YAYr4bu2nSQr6rC6Y1MnWMPUeZi02/RNJqrcNMvxVoT7WL8dpCkjbh8dJRUWbhm3X9J1roX8ZRFpEZGzYoT88mol2rp165a0/txeKW9Wboip/mFoKHhNxvIksbJwlWAOR/i9IUxhhpY4XhURAYIOPvztOxgvXGHlZF2mz6+WaOrj6FYnMjW6Mt1XgYkZ4mz1ttrD1eP2b+R1uH/gjgMj3DfIClivB5oOh3QVOotkWUjS5tpcCvkFItKv6haPE/LjnnP6yNNdbj3gIBiKhxnD8YNJ8iPRQ8ZN85jAZ75pV7IQwHRn2XWvYfMrs87MXbOj68qQJehwwoOtVudtyK6JFqGVB+4Ymh1lesacPFwZUXWo5/J/uG+i5xZD7D2uCfpk6mG609xW7h3/OaCjEw8pjHlwbS6F/DYRWSciq0Vkk4jsF5Fnjqt2yAcKebrLjY5NZFcLs58+N9uLDw52UoZti9YRfOHf6mfeYRdWTl7Lkvrn0TEKH7/rV3h0OGOkJ/JvRx1Ldy6avk3kxTSv4yAcDy4NRMuAFVrp9TK8gbqIunpsUmWsg8tMjpqZSyH3SzVb5Jq45f9wf+CHgOHNYYapyNDiQerXWqZdFTMdDgipVYck6+EGShKFgk6trzieU1TX//Hqjxgt7zD7ybOzrA9MCjtOUZfpVLJwy4FFPQ39PsiXE+VKTFM3PMDhUsEkGXkYhTwPyg6P0b52pyfUUZESuKGQ0B6dcHH2zt6D3gPBRcsk7rhZ1+HHYpp1EQwufnx61kMa7Y+HDLgjKiJsxCvWNRproxM33Ej3JaCRkWeOnrDq4beDetjssMdk1l4DKqeRqnkJub91HvmZrpWw2yx+mfb7xvmpMbCn1o2KWWEwd6PLwRHxZ5JuLVrZUW6lYInId4HWV16GKB9wD+b2hhshyZtEXvXN8zh4uCG/C/7gS66n6VQJ6GuyZQjRRSvfxKVp45gUchsU61gGWnWYvT7Odr17yMvzDH9kmGEoPzpl0qZiDSszr2VIRwBRRAs4ziAcEFWXCaHCjo/0BUgL65+1HdPhoS5Rb1Fh5ZRxGTo8XWZaTMIMb3YYi2HD8HaL31PP1+fbKM6oDAq5EaZibuT5x28YbtTKREsUccuYlCFoiLLA6E0M7W800+FjyzfHD7PW2e78sfF5nOv6Hfu9h6g/q59+lc9jftM8zjHtMRAxgsiqIhgiS9ARXqtBYFJXnXohz7dbCrnJlSnoNnpghUnLTm+LTji/YTQdEmzd9Gb2OSz95eb1GX5NtG6Hzd8Qe0jt5shr0Iu/MroTGYm+YJjyC28R9YzU8NePn5WXowj3EQaNZTH0ScHVl3feGAp5lqtW5331kx9Dz00MPeh4hfSHxGHAAqJetu+tr5/SpP5h2+w9cNgTcohlnKEljh+q66HSYXXARAnIDgn2EG+4w/KKngmrD5d1JYDEZbg/at1HXffsvETPtpR3ygoKeefr0FDfIMKIgTU1LWY6bSrCDHHzIqa5kQ15pWtlNNRx22ERJHmcu8598/CEDi/ssN4hd3mcc6MdA6OZEfufxfS4jbzvMwp5lqtWx32RGwI5TzD7iKnh5sI+SKaPVjky9SH7Xj2G15vW2WQ7/PguuC8+vBJ9BMgLXU/DwC34Ycvw8KwnR1fHxoAxTP6c1uWFVj1G9CbJyGnrXCjktkjmXA5yQ0AQXp29NtGRe7+50PPPYn5G7J80n3eig+W0MX44GFjidxkFD43Zk2qJfXAf29/R4YpOZXCPGihk+5gsz5yATvmQdoYknSpj2ab4jnfzGplvSSE3Z1WoLfXwX0RFJDH4iCEk6OCE39ZGL32S47vYVo8SjGMBn7TpwCEXddRlYrIPxOv7wxH1Ov6vLwHEs+PapAlRxRsy3Jx4y62HUcjrQd3CMSFKSP2ZxpDDG2L+xtzkucrTHM/1PrqDCVOnhRla6nBp1OOVN1gfhIzWI+92sB78Hk7g7/tOTJX6Wc8QlfQNObwWyZdSyJMzs7oHRn5hIE6S7G94+uuEQ2kqg5A95El2lYM5Tf5NMJ4AABQPSURBVJ2y7IMkVXgwYULmMEO2Q6xHRyONBOIIIAwXg3mSdlZi4Bd+k0n3i6tLknUU8iS0HGyLzkqIDDriTOduRD5t7JN3iJOD07dSJFrc6MT1T6zhL1iPpEwzW5K/HH4uPwGkb8ZvC295pqbTRddzLAaF3PRqOdgOr2G4aZCXAb3dP3qmLbbDTlcBLU/s14gjMfU52P7/jQcnq3/uPzW0WB36h/kTaSQQRwDpLNB/1Gfk0rjNOq3rN67D+z0mmcClUwEWvlDILUBMUwQuOiItLnxoqjdVGyaehTib+K0x3BtZ9WgnCCCPTNRExnqyDAwJp5FALQL/9OBkL+EV5haNi4RCOXBPoq8qqhFR61i21lPIbZFMUA78aF+9Z4L63E0jlR6ViTn9MPISLgJkY4sy3Dif7TVC/fzF8ARYUfuVfTn833gQhuWSQWItZNmzmW+67Dyb+fwQJnph/8pctBDouJmekHYB951JmgyXTCnkLulGlI3BKbj445Zs7rQFbhhkyvveEzMiWwLa34vZuWknCGAOUTBtW739xMLqJ4z6xETUNBIwJYAGE1rkn75huBf733fUMoVUC0H74dNtXsMqbF1wW5ffKeQu6YaUrTPfIXFSmOn48Cih1rnFGYfcmZ6ezDhsJiS0quoV39u5lvzWaAQQEfWz52Z7jQTkysGEEdowRy6SnyGXf72NQp7jFVixZY8XzwxRgSslzNASwGsdElmFDXBBC4Cty67k4DZB2NgtQ7vOXn/mHWO8H2PXvbiEBMwIjF2y2fvd4a2v+yvt3gTeOqslftf1Ngp5TlcAfvHz+k70XsNqdbq9vW2f1xEanLwXHS/wq185aE5OtW6sw6DfAflM/IYHIyKCbmsNfwPyb8vPJBBHADmJ0PpGVAsmKcffRQ9Pi9slt3UU8pxQY3JkPM3HLu7sF486vI60wH9tGBGIMgbRP66RdPqPQRlIO+A3PY3XU1NX+RfzMwmkJoDc/pjdCL/FIfPi8+CnPkjCHSnkCYGl2Xzw3PXeRb+1tetrf1R5aH2jRY4QRbTQYRAj3Dz6e9S+zbr87pFLvdaSf3TdnDWViScw0INGArYIwDU6d82OyKAEW8cxLYdCbkoq5XZIUnV6z+HejCFJE1TBRw5fOTrr4CJA+tkzbh1dmJsnJRJnuyEGHw86jHzVNrR9g7cM2SJpJFBWAhRyh1cWLUMk4UEOhrCOS5NDw40CcUI0C2aBrzWBgkmZZd1m4fpK6gK8AWnTsyjVe6Z2XR/+JwEXBCjkLqhWy3xofGWQCmKc0xpcLIgrR5gTBB2xrbRwAnhwIg3pPaNODK/uNXihN1lArRF64SVyKQk0BgEKucPrBFdIkqnYoqqCDjuM+ISQI16aFk0AoYb+adQQronJcGkkUGYCLoX8j0RknIgsEpGFInKF1LCWlpZSsT7/3onquwOmWzknxLEifpUty3iclwyY7qU/0Ft97f5Jmedh1GXxPwkUlYBLIf99Efl8Vbt/R0SWichpcVpeJiGH4BZlMoOi3nwu6oU4X6Q50HlVEOuLhFo0EigzAZdCHtTsN0TknOBC//cyCTmG78IV8kTEZAdlvqnqeW56LlKEaCL/Ba6B32dez7rx2CTgikBeQn6yiKwRkd/1C3f18+XVSrR169bN1XnmXi4mcIWIBBNj5V6RJjvgzCp35CCHmOMahOVfaTIsPN2SE8hDyH9bRGaJyDdDRLzTojK1yHXYIFJi0vIj8M7eg554PzJhhZq2Ypv3edKyrflVgEcigToQcC3k7xORESJyVSfFjvhSJiFHdkOEDEYlx6rDtW6aQ2LaPEyh98qsygxMcfmkmwYKT7TUBFwK+UkiMlBE+kbodpfFZRJyhB6edRfD3urx60H2yG/2m6J0djpMcE0jgTITcCnkZ4qIEpF2EZlb/Tu/i3r7FpRJyDGi01boYZlvQBfnhgRliLvHf8ymRCOBshNwKeQ+iTb7WBYhR+ghkl3d8MaCst8/hTy/xydVJqf+x/sneSkSCllJVooELBKgkFuEqYvSoYeYzYeWP4HxSyvzKGK4/mVPzsy/AjwiCeRMgELuADimg0LYGwSFlj+BdTv2e/xxDa5/fX7+FeARSSBnAhRyB8ARtwwRYV4UB3ANikTKX7i2cA2QuIxGAmUnQCF3cIUZeugAasIi9QwumOyaRgJlJ0Ahd3CFf/RMmzqboYcOyJoXecXzlZnPMdKTRgJlJ0Ahd3CFMckysvDR6kdAx5CnndCjfjXnkUkgOQEKeXJmsXvo0MMbBzP0MBaU45Xb9hzgJNWOGbP44hCgkFu+Fpy13TJQFkcCJFCTAIW8JqJkG7xVTdTE0MNk3Lg1CZBAegIU8vTsQvfUoYdIoUojARIggTwIUMgtU7592GL10R7MemgZK4sjARKIIUAhj4GTZpU32S9DD9Og4z4kQAIpCVDIU4KL2u2r90xQlz4xI2o1l5MACZCAdQIUcotIEXr4ieuGqV6DF1oslUWRAAmQQDwBCnk8n0RrN+2qTLj81FRmPUwEjhuTAAlkIkAhz4Sv8856jsgJzHrYGQy/kQAJOCVAIbeI94UZb3sZ99ZsZ+ihRawsigRIoAYBCnkNQElW39bK0MMkvLgtCZCAHQIUcjscvVJ+MLBNnf0rTrhsESmLIgESMCBAITeAZLoJQg+/x9BDU1zcjgRIwBIBCrklkAw9tASSxZAACSQmQCFPjCx8h407K6GHAxl6GA6IS0mABJwRoJBbQqtDDycu44TLlpCyGBIgAUMCFHJDULU2e346Qw9rMeJ6EiABNwRcC/l5IrJURDpEpLvUsJaWFjdnmUOpt7YuUh/r0aqOHD2Ww9F4CBIgARI4QcClkL9HRFaIyKki8n4RmScip8VpeSMLOUIPv8zQwxN3Fj+RAAnkRsClkJ8hIiN8wn2NiOAv0hpZyBl6mNs9ywORAAkECLgU8m+LyGM+1b5YRB7wfe/ysVGF/OjRY+rj17Wqm95k1sPA/cWvJEACORAogpBfXq1EW7du3XI4ZfuHOB56OG21/cJZIgmQAAnUIOBSyJvGtTK1Y5uXLIuhhzXuNq4mARJwQsClkL9XRFaKyCm+zs7Tu/hTfAsa1bXyHEMPndycLJQESMCMgEshh0SfLyLLqtEr1/o0O/Rjowr5rUMZemh2u3ErEiABFwRcC3moYEctbFQhv3zgTPV3fca7uD4skwRIgARqEqCQ10RUe4Nz756gLnuSEy7XJsUtSIAEXBCgkGekitDDP722VfVm6GFGktydBEggLQEKuY/cvoOH1aMTV6h7Ri31LY3/uGHnfi9i5WmGHsaD4loSIAFnBCjkSqnd7x5SD4xdrj5300hPlP/46iFq5qrtRtCndGz19pm0bKvR9tyIBEiABGwTaGoh37HvoOozcqn69A3DPTH+7oDpavLyrZ6gX2o408+zb1WyHq59hxMu2745WR4JkIAZgaYU8i27DyhkKzzt+mGegCPqpH3tzuPE7h+zzFu+YP2JZcdXBj54oYfXtir4ymkkQAIkUA8CTSXkGEp/4+AFXl6Uk7sPUT99brZasnF3F+479x9Sp/ccrn7y7Kwu64IL/vMphh4GmfA7CZBAvgSaRsjhB/9MrxHq1GuGqp+/OFd1bNkTS/q21sXqlO5D1Mqte2O3O+fu8eqyJ2fGbsOVJEACJOCSQNMI+filWzx3yehFm4x4wv2CsMKrX54Xub0OPbx5CLMeRkLiChIgAecEmkbI0amJFvaeA4eNoV732nz10R5DFUIMw2z9DoYehnHhMhIggXwJNI2Qf+ext9R5fScmortm+z7PFROVZ3zK8kroISJdaCRAAiRQLwJNIeSYRxOdl9e+1p6Y85WD5qhPXDdMbd97sMu+OvRw3Y7wFnuXHbiABEiABBwQaAohX7xxl+cff3X22sQIl23a7e3bZ8SSLvvegqyHDD3swoULSIAE8iXQFEL+zFurPTFevS0+AiUKPeLMMWgo6F///lMz1VeY9TAKG5eTAAnkRKAphBzukZbeI9WxY+kG7cxds8N7EPQf39HpsiD0EGJOIwESIIF6EmgKIT/rrnEKA3ey2L8/+pb6ws2j1LuHjnjFMPQwC03uSwIkYJNA6YV8254DXmv6oUBrOilEnRxLZzlEByeSa8FtQyMBEiCBehIovZCPXLjJE9wZhtkMoy4G3DJff2CyOvOOMerwkaNeci0IOUIQaSRAAiRQTwKlF/Lbhy32BvVol0gW2Pqh8NrsdV5LHELO0MMsRLkvCZCADQKlF/IL+09VX3tgsg1WXoZDdHDiDzMCYQg/sx5aQctCSIAEMhAotZAfOnLUy3TYa7C9XChojaMl/tleIzxBz8Ceu5IACZCAFQKlFvJ5aythg0PmbbACC4XAPw4/OcScoYfWsLIgEiCBDARKLeQDJq/0BDcq6VVabohcgZBjZCeNBEiABOpNoNRCjokjzrh1tHXG6Dj9wcA243k9rVeABZIACZCAj0Cphfyvbhujfmwwy4+PBz+SAAmQQMMRcCXkd4nIEhFpF5HXROSDYmAtLS3WAGJaN7g/Hp+00lqZLIgESIAEikjAlZCfKyLvrWr3HSKCv5pmU8iHtm/whBx5UmgkQAIkUGYCroTcL9rfEJFn/QuiPtsUckwGgTjvg4ePlvn68dxIgARIQOUh5G+KyHeixFtELq9Woq1bt27WLgmG01/40FRr5bEgEiABEigqgSxCPlpEFoT8fd0n2tdWfeQn+ZZFfrTVIkdUCebavK11cVG5s14kQAIkYI1AFiGPFOTqiktEZJqIfKDWhnq9LSGfuWq75x8fsWCjNVAsiARIgASKSsCVkJ8nIotE5CNapE3+2xLyhyd0eEK+dc+BonJnvUiABEjAGgFXQt4hImtFZG71r3+eQo6p2f72zrHWILEgEiABEigyAVdCbqLbXbax0SJH3vCW3qPUlS/MKTJ31o0ESIAErBEonZCv2b7Pc6vomXyskWJBJEACJFBQAqUTcp1mdtGGXQVFzmqRAAmQgF0CpRPy616br07vOVwdOXrMLimWRgIkQAIFJVA6IT//3okKM97TSIAESKBZCJRKyPceOKxO6T5E9Rm5tFmuH8+TBEiABHIZot8lOiVqQdaoFcxoj4yH45Zs5qUlARIggaYhUKoW+f1jlnlCvnP/oaa5gDxREiABEiiVkF8yYLr6Sp/xvKokQAIk0FQESiPkR48eU5/pNUJd/fK8prqAPFkSIAESKI2QL9+8x3OrDJq5hleVBEiABJqKQGmEfNCMNZ6QQ9BpJEACJNBMBEoj5HCpwLUCFwuNBEiABJqJQGmEHJ2clz4xo5muHc+VBEiABDwCpRDynfsOeW4VhB/SSIAESKDZCJRCyDEACAOBpnRsbbbrx/MlARIggXKM7OwzYok69ZqhCkP0aSRAAiTQbARK0SJ/Ycbb6pcvMX682W5eni8JkECFQCmEnBeTBEiABJqZAIW8ma8+z50ESKAUBCjkpbiMPAkSIIFmJkAhb+arz3MnARIoBQEKeSkuI0+CBEigmQlQyJv56vPcSYAESkGAQl6Ky8iTIAESaGYCFPJmvvo8dxIggVIQoJCX4jLyJEiABJqZQKGEXES2VivUluL/6hT7pDmOq30auf6NXHdcz0aufyPXvdHZF6n+0M5SGKA2sjVy/Ru57rhnGrn+jVz3RmdfhvoXTjN5Q9fvkpA92aclwHsnLbmS7scbon4XluzJPi0B3jtpyZV0v8sb/Lwauf6NXHfcNo1c/0aue6OzL0P9G1w2WX0SIAESIAESIAESIAESIAESIAESIAESIIEqgfNEZKmIdIhI9wajgjjg+SIyt0HC4AaIyBYRWeDj/HsiMkpEllf/f8i3rmgfw+p/o4isr14DXIfzi1bpan3+SETGicgiEVkoIldUlzcC/6i6Nwr73xCRGSIyr8q+V5X9KSIyvao9g0Tk/QW9dwpfrfeIyAoRObUKEaBPK3ytT1QQQv6/T3wt/Ke/EZHPB4T8Tt8DFA/SOwp8FmH1h5j8T4HrrKv2+1X2+P47IrKseq83Av+oujcK+5NE5LerF+J9VfH+SxF5UUQuqi7vLyI/0heL/5MROENERvh2uUZE8Nco1mhCDq4nB4Qcb0P4ocLwH9+LbMH6N4qYBJm+ISLnVHk3En+ch657I7L/gIjMFpEvisg2EXlv9cIEtSh4vfg9hsC3ReQx3/qLReQB3/eif1xVvSlmNVAYXFAId/ogo+Xi/+5bVZiPwfpDTPBAbRcRuF6K7BrSEHEOa0TkdwO8G4W/rnsjscfbP1xve6tvnXiThjtXG9xHfpejXs7/BgQaXcj/oHqO/6fqf8Orf9EtKIRB4d5R8BMI1v//igh+pL8mIrdUxbzIp4BXfDz4v1mtZCPxD9a90dgD+QerfRVnUsjt/UyCrzON5lrxk2iU18ygEDa6a8V/DYLn5l9XhM/wz8KVeJWvMo3CP6zuvtPo4rLzryva554i8gu6VuxdFvinVooIeo/RY4zOztPtFe+0pN+qdlrhIPg8VUQQgVN0C4rdXYHOTnS+FdmC9df+ZdT5ShF5oaCVh9tkoIj0DdSvEfhH1b1R2H+k2hIH+t8UkUkicoGIvBTo7Pxx4NrwawICCBdDDz6iV65NsF+9N0WkDR48OqSpEer+vIhsFJHDIrJORC4TkQ+LyJhq+OFoEUE4XFEtrP5PV0NA4SMf7Ou4Ldo54FVeVX358NXqUMlG4B9V90Zh/2ciMqfKHn5wtMhh+A0jLBG+coj6r1eX8x8JkAAJkAAJkAAJkAAJkAAJkAAJkAAJkAAJkAAJkAAJkAAJkAAJkAAJkAAJkAAJkAAJkAAJkAAJkAAJkAAJkAAJkAAJ5E7g/wOyTQG2toIPEgAAAABJRU5ErkJggg==)"
      ]
    },
    {
      "cell_type": "markdown",
      "metadata": {
        "id": "5Mp5Ez8XGvSH"
      },
      "source": [
        "### Tracking Convergence"
      ]
    },
    {
      "cell_type": "code",
      "metadata": {
        "id": "4QteHEM4GvSH"
      },
      "source": [
        "# Plotting average rewards\n",
        "# x-values = 1000 episodes , tracked after every 25th episode\n",
        "plt.plot(list(range(len(avg_reward))), avg_reward)\n",
        "plt.ylabel(\"Average Reward\")\n",
        "plt.show()"
      ],
      "execution_count": null,
      "outputs": []
    },
    {
      "cell_type": "code",
      "metadata": {
        "id": "hpDttHNfJW8D"
      },
      "source": [
        "## Write the code for plotting the graphs for state-action pairs tracked\n",
        "\n",
        "plt.figure(0, figsize=(15,20))\n",
        "plot_number =321\n",
        "\n",
        "for i in list(States_track.keys())[:5]:\n",
        "    for x in list(i.keys())[:5]:\n",
        "        s = i\n",
        "        a = x\n",
        "        s_aPair = (States_track[s][a])\n",
        "        # print(s)\n",
        "        # print(a)\n",
        "        # print(s_aPair)\n",
        "        x_axis = np.asarray(range(0, len(s_aPair)))\n",
        "        plt.subplot(plot_number)\n",
        "        plt.plot(x_axis,np.asarray(s_aPair))\n",
        "        title = \"Convergence plot for: {0},{1}\".format(s,str(a))\n",
        "        plt.title(title, fontsize=15, fontweight='bold')\n",
        "        plt.ylabel(\"Q_values\", fontsize=13, fontstyle='italic')\n",
        "        plt.xlabel(\"No. of Episodes  (step increment of threshold value)\", fontsize=13, fontstyle='italic')\n",
        "        plot_number +=1\n",
        "        plt.grid(True)\n",
        "        plt.show\n",
        "\n"
      ],
      "execution_count": null,
      "outputs": []
    },
    {
      "cell_type": "code",
      "metadata": {
        "id": "ECGF3ICGGvSI"
      },
      "source": [
        ""
      ],
      "execution_count": null,
      "outputs": []
    },
    {
      "cell_type": "markdown",
      "metadata": {
        "id": "1V1L73CbGvSI"
      },
      "source": [
        "#### Epsilon-decay sample function"
      ]
    },
    {
      "cell_type": "markdown",
      "metadata": {
        "id": "gemQg6TXGvSI"
      },
      "source": [
        "<div class=\"alert alert-block alert-info\">\n",
        "Try building a similar epsilon-decay function for your model.\n",
        "</div>"
      ]
    },
    {
      "cell_type": "code",
      "metadata": {
        "id": "7jixZOWnGvSI"
      },
      "source": [
        "time = np.arange(0,100)\n",
        "epsilon = []\n",
        "for i in range(0,100):\n",
        "    epsilon.append(0 + (1 - 0) * np.exp(-0.005*i))"
      ],
      "execution_count": null,
      "outputs": []
    },
    {
      "cell_type": "code",
      "metadata": {
        "id": "t4MSJRccGvSJ"
      },
      "source": [
        "plt.plot(time, epsilon)\n",
        "plt.show()"
      ],
      "execution_count": null,
      "outputs": []
    },
    {
      "cell_type": "code",
      "metadata": {
        "id": "9Ahkhl4uGvSJ"
      },
      "source": [
        "z:0-1\n",
        "e:0\n",
        "e>z"
      ],
      "execution_count": null,
      "outputs": []
    },
    {
      "cell_type": "code",
      "metadata": {
        "id": "YnFUwirgGvSJ"
      },
      "source": [
        ""
      ],
      "execution_count": null,
      "outputs": []
    }
  ]
}